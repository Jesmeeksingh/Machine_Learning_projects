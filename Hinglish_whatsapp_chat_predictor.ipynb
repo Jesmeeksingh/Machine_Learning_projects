{
  "nbformat": 4,
  "nbformat_minor": 0,
  "metadata": {
    "colab": {
      "provenance": [],
      "gpuType": "T4",
      "authorship_tag": "ABX9TyPdZoSCeWJfFjsy42RO+7Xs",
      "include_colab_link": true
    },
    "kernelspec": {
      "name": "python3",
      "display_name": "Python 3"
    },
    "language_info": {
      "name": "python"
    },
    "accelerator": "GPU"
  },
  "cells": [
    {
      "cell_type": "markdown",
      "metadata": {
        "id": "view-in-github",
        "colab_type": "text"
      },
      "source": [
        "<a href=\"https://colab.research.google.com/github/Jesmeeksingh/Machine_Learning_projects/blob/main/Hinglish_whatsapp_chat_predictor.ipynb\" target=\"_parent\"><img src=\"https://colab.research.google.com/assets/colab-badge.svg\" alt=\"Open In Colab\"/></a>"
      ]
    },
    {
      "cell_type": "code",
      "execution_count": 1,
      "metadata": {
        "id": "Efv4Cv7RQkg9"
      },
      "outputs": [],
      "source": [
        "with open('thefreakschat.txt','r') as file:\n",
        "  hinglish_text = file.read()"
      ]
    },
    {
      "cell_type": "code",
      "source": [
        "# hinglish_text"
      ],
      "metadata": {
        "id": "TZQ3w-2d2QNQ"
      },
      "execution_count": 81,
      "outputs": []
    },
    {
      "cell_type": "code",
      "source": [
        "lines = hinglish_text.split('\\n')"
      ],
      "metadata": {
        "id": "uyS0g10H2YAa"
      },
      "execution_count": 3,
      "outputs": []
    },
    {
      "cell_type": "code",
      "source": [
        "messages = []\n",
        "keywords_to_exclude = ['<Media omitted>','null']\n",
        "for line in lines:\n",
        "    message_index = line.find('-') + 2\n",
        "    message = line[message_index:]\n",
        "    message_index = message.find(':')\n",
        "    if message_index != -1:  # Check if ':' is found\n",
        "        message = message[message_index + 1:]  # Skip the ':'\n",
        "        if not any(keyword in message for keyword in keywords_to_exclude):\n",
        "          messages.append(message.strip())\n",
        "\n",
        "\n",
        "modified_data = '\\n'.join(messages)\n",
        "# modified_data"
      ],
      "metadata": {
        "id": "a7MfQIHu3J7y"
      },
      "execution_count": 82,
      "outputs": []
    },
    {
      "cell_type": "code",
      "source": [
        "import tensorflow as tf\n",
        "from tensorflow.keras.preprocessing.text import Tokenizer"
      ],
      "metadata": {
        "id": "n181v9WnQqe5"
      },
      "execution_count": 5,
      "outputs": []
    },
    {
      "cell_type": "code",
      "source": [
        "tokenizer = Tokenizer()"
      ],
      "metadata": {
        "id": "aYtMWLrhQ7W5"
      },
      "execution_count": 6,
      "outputs": []
    },
    {
      "cell_type": "code",
      "source": [
        "tokenizer.fit_on_texts([modified_data])"
      ],
      "metadata": {
        "id": "DLSAbty3RCfL"
      },
      "execution_count": 7,
      "outputs": []
    },
    {
      "cell_type": "code",
      "source": [
        "# tokenizer.word_index"
      ],
      "metadata": {
        "id": "tpygfpAQRKxB"
      },
      "execution_count": 83,
      "outputs": []
    },
    {
      "cell_type": "code",
      "source": [
        "input_sequences = []\n",
        "for sentence in modified_data.split('\\n'):\n",
        "  tokenized_sentence = tokenizer.texts_to_sequences([sentence])[0]\n",
        "\n",
        "  for i in range(1,len(tokenized_sentence)):\n",
        "     input_sequences.append(tokenized_sentence[:i+1])"
      ],
      "metadata": {
        "id": "ie0B-QUBRQIp"
      },
      "execution_count": 9,
      "outputs": []
    },
    {
      "cell_type": "code",
      "source": [
        "# input_sequences"
      ],
      "metadata": {
        "id": "XuzBvJfpVU6j"
      },
      "execution_count": 84,
      "outputs": []
    },
    {
      "cell_type": "code",
      "source": [
        "max_len = max([len(x) for x in input_sequences])\n",
        "max_len"
      ],
      "metadata": {
        "id": "21sYWoStVmwU",
        "colab": {
          "base_uri": "https://localhost:8080/"
        },
        "outputId": "c752c8d5-b1dc-4d61-cf51-622dad1b8381"
      },
      "execution_count": 11,
      "outputs": [
        {
          "output_type": "execute_result",
          "data": {
            "text/plain": [
              "118"
            ]
          },
          "metadata": {},
          "execution_count": 11
        }
      ]
    },
    {
      "cell_type": "code",
      "source": [
        "#zero padding\n",
        "from tensorflow.keras.preprocessing.sequence import pad_sequences"
      ],
      "metadata": {
        "id": "aSMw4uVlWBMk"
      },
      "execution_count": 12,
      "outputs": []
    },
    {
      "cell_type": "code",
      "source": [
        "padded_input_sequences = pad_sequences(input_sequences,maxlen = max_len,padding = 'pre')"
      ],
      "metadata": {
        "id": "DoSyEQ2aWEy-"
      },
      "execution_count": 13,
      "outputs": []
    },
    {
      "cell_type": "code",
      "source": [
        "X = padded_input_sequences[:,:-1]"
      ],
      "metadata": {
        "id": "dPM7azytWWU_"
      },
      "execution_count": 14,
      "outputs": []
    },
    {
      "cell_type": "code",
      "source": [
        "# X"
      ],
      "metadata": {
        "id": "50dvuuTDLQN4"
      },
      "execution_count": 85,
      "outputs": []
    },
    {
      "cell_type": "code",
      "source": [
        "X.shape"
      ],
      "metadata": {
        "colab": {
          "base_uri": "https://localhost:8080/"
        },
        "id": "rqtsZTQu8KYZ",
        "outputId": "18e8ae22-fef9-4eeb-e1a7-68dff070529e"
      },
      "execution_count": 16,
      "outputs": [
        {
          "output_type": "execute_result",
          "data": {
            "text/plain": [
              "(90815, 117)"
            ]
          },
          "metadata": {},
          "execution_count": 16
        }
      ]
    },
    {
      "cell_type": "code",
      "source": [
        "Y = padded_input_sequences[:,-1]"
      ],
      "metadata": {
        "id": "fJM6Nk0TWvKB"
      },
      "execution_count": 17,
      "outputs": []
    },
    {
      "cell_type": "code",
      "source": [
        "# Y"
      ],
      "metadata": {
        "id": "fIrGH-HmLXP0"
      },
      "execution_count": 86,
      "outputs": []
    },
    {
      "cell_type": "code",
      "source": [
        "from tensorflow.keras.utils import to_categorical\n",
        "Y = to_categorical(Y,num_classes=12114)"
      ],
      "metadata": {
        "id": "rdDPObISXof2"
      },
      "execution_count": 18,
      "outputs": []
    },
    {
      "cell_type": "code",
      "source": [
        "# Y"
      ],
      "metadata": {
        "id": "gY-4qqaqNQ-Y"
      },
      "execution_count": 87,
      "outputs": []
    },
    {
      "cell_type": "code",
      "source": [
        "Y.shape"
      ],
      "metadata": {
        "colab": {
          "base_uri": "https://localhost:8080/"
        },
        "id": "fWzYGj1jNSGi",
        "outputId": "0428affb-5ad5-4ebf-dd1a-3b106a5d81c2"
      },
      "execution_count": 20,
      "outputs": [
        {
          "output_type": "execute_result",
          "data": {
            "text/plain": [
              "(90815, 12114)"
            ]
          },
          "metadata": {},
          "execution_count": 20
        }
      ]
    },
    {
      "cell_type": "code",
      "source": [
        "from tensorflow.keras.models import Sequential\n",
        "from tensorflow.keras.layers import Embedding, LSTM, Dense"
      ],
      "metadata": {
        "id": "EAihaKSQvm1T"
      },
      "execution_count": 21,
      "outputs": []
    },
    {
      "cell_type": "code",
      "source": [
        "model = Sequential()\n",
        "model.add(Embedding(12114,100,input_length=117))\n",
        "model.add(LSTM(150))\n",
        "model.add(Dense(12114,activation='softmax'))"
      ],
      "metadata": {
        "id": "kcxgS0th7UIc"
      },
      "execution_count": 22,
      "outputs": []
    },
    {
      "cell_type": "code",
      "source": [
        "model.compile(loss='categorical_crossentropy',optimizer='adam',metrics = ['accuracy'])"
      ],
      "metadata": {
        "id": "mDXJ4Uw68nFw"
      },
      "execution_count": 23,
      "outputs": []
    },
    {
      "cell_type": "code",
      "source": [
        "model.summary()"
      ],
      "metadata": {
        "colab": {
          "base_uri": "https://localhost:8080/"
        },
        "id": "wqwSUOJVhLKy",
        "outputId": "a958d419-eafb-4677-ed63-8032f5c65083"
      },
      "execution_count": 24,
      "outputs": [
        {
          "output_type": "stream",
          "name": "stdout",
          "text": [
            "Model: \"sequential\"\n",
            "_________________________________________________________________\n",
            " Layer (type)                Output Shape              Param #   \n",
            "=================================================================\n",
            " embedding (Embedding)       (None, 117, 100)          1211400   \n",
            "                                                                 \n",
            " lstm (LSTM)                 (None, 150)               150600    \n",
            "                                                                 \n",
            " dense (Dense)               (None, 12114)             1829214   \n",
            "                                                                 \n",
            "=================================================================\n",
            "Total params: 3191214 (12.17 MB)\n",
            "Trainable params: 3191214 (12.17 MB)\n",
            "Non-trainable params: 0 (0.00 Byte)\n",
            "_________________________________________________________________\n"
          ]
        }
      ]
    },
    {
      "cell_type": "code",
      "source": [
        "model.fit(X,Y,epochs=30)"
      ],
      "metadata": {
        "colab": {
          "base_uri": "https://localhost:8080/"
        },
        "id": "vtBkj8PyhNSK",
        "outputId": "1b2a6cc8-0c17-420b-fb12-a49c7ae49fba"
      },
      "execution_count": 25,
      "outputs": [
        {
          "output_type": "stream",
          "name": "stdout",
          "text": [
            "Epoch 1/30\n",
            "2838/2838 [==============================] - 64s 21ms/step - loss: 7.3314 - accuracy: 0.0444\n",
            "Epoch 2/30\n",
            "2838/2838 [==============================] - 40s 14ms/step - loss: 6.6229 - accuracy: 0.0809\n",
            "Epoch 3/30\n",
            "2838/2838 [==============================] - 39s 14ms/step - loss: 6.1136 - accuracy: 0.1099\n",
            "Epoch 4/30\n",
            "2838/2838 [==============================] - 38s 14ms/step - loss: 5.6572 - accuracy: 0.1321\n",
            "Epoch 5/30\n",
            "2838/2838 [==============================] - 39s 14ms/step - loss: 5.2269 - accuracy: 0.1548\n",
            "Epoch 6/30\n",
            "2838/2838 [==============================] - 38s 13ms/step - loss: 4.8137 - accuracy: 0.1827\n",
            "Epoch 7/30\n",
            "2838/2838 [==============================] - 38s 13ms/step - loss: 4.4283 - accuracy: 0.2165\n",
            "Epoch 8/30\n",
            "2838/2838 [==============================] - 38s 14ms/step - loss: 4.0716 - accuracy: 0.2583\n",
            "Epoch 9/30\n",
            "2838/2838 [==============================] - 37s 13ms/step - loss: 3.7514 - accuracy: 0.3027\n",
            "Epoch 10/30\n",
            "2838/2838 [==============================] - 37s 13ms/step - loss: 3.4661 - accuracy: 0.3437\n",
            "Epoch 11/30\n",
            "2838/2838 [==============================] - 38s 13ms/step - loss: 3.2165 - accuracy: 0.3828\n",
            "Epoch 12/30\n",
            "2838/2838 [==============================] - 38s 13ms/step - loss: 2.9934 - accuracy: 0.4187\n",
            "Epoch 13/30\n",
            "2838/2838 [==============================] - 38s 13ms/step - loss: 2.7942 - accuracy: 0.4499\n",
            "Epoch 14/30\n",
            "2838/2838 [==============================] - 38s 13ms/step - loss: 2.6182 - accuracy: 0.4809\n",
            "Epoch 15/30\n",
            "2838/2838 [==============================] - 39s 14ms/step - loss: 2.4604 - accuracy: 0.5087\n",
            "Epoch 16/30\n",
            "2838/2838 [==============================] - 39s 14ms/step - loss: 2.3171 - accuracy: 0.5340\n",
            "Epoch 17/30\n",
            "2838/2838 [==============================] - 38s 13ms/step - loss: 2.1889 - accuracy: 0.5572\n",
            "Epoch 18/30\n",
            "2838/2838 [==============================] - 38s 13ms/step - loss: 2.0753 - accuracy: 0.5770\n",
            "Epoch 19/30\n",
            "2838/2838 [==============================] - 38s 13ms/step - loss: 1.9734 - accuracy: 0.5970\n",
            "Epoch 20/30\n",
            "2838/2838 [==============================] - 37s 13ms/step - loss: 1.8797 - accuracy: 0.6148\n",
            "Epoch 21/30\n",
            "2838/2838 [==============================] - 38s 13ms/step - loss: 1.7962 - accuracy: 0.6291\n",
            "Epoch 22/30\n",
            "2838/2838 [==============================] - 38s 13ms/step - loss: 1.7179 - accuracy: 0.6443\n",
            "Epoch 23/30\n",
            "2838/2838 [==============================] - 38s 13ms/step - loss: 1.6513 - accuracy: 0.6561\n",
            "Epoch 24/30\n",
            "2838/2838 [==============================] - 38s 13ms/step - loss: 1.5882 - accuracy: 0.6688\n",
            "Epoch 25/30\n",
            "2838/2838 [==============================] - 37s 13ms/step - loss: 1.5318 - accuracy: 0.6794\n",
            "Epoch 26/30\n",
            "2838/2838 [==============================] - 38s 13ms/step - loss: 1.4804 - accuracy: 0.6889\n",
            "Epoch 27/30\n",
            "2838/2838 [==============================] - 37s 13ms/step - loss: 1.4336 - accuracy: 0.6974\n",
            "Epoch 28/30\n",
            "2838/2838 [==============================] - 37s 13ms/step - loss: 1.3917 - accuracy: 0.7058\n",
            "Epoch 29/30\n",
            "2838/2838 [==============================] - 38s 13ms/step - loss: 1.3539 - accuracy: 0.7122\n",
            "Epoch 30/30\n",
            "2838/2838 [==============================] - 38s 13ms/step - loss: 1.3202 - accuracy: 0.7173\n"
          ]
        },
        {
          "output_type": "execute_result",
          "data": {
            "text/plain": [
              "<keras.src.callbacks.History at 0x7b9953f87f70>"
            ]
          },
          "metadata": {},
          "execution_count": 25
        }
      ]
    },
    {
      "cell_type": "code",
      "source": [
        "import numpy as np\n",
        "text = \"tanvir ko\"\n",
        "for i in range(5):\n",
        "\n",
        "  token_text = tokenizer.texts_to_sequences([text])[0]\n",
        "  padded_token_text = pad_sequences([token_text],maxlen = 117,padding='pre')\n",
        "  pos = np.argmax(model.predict(padded_token_text))\n",
        "  for word,index in tokenizer.word_index.items():\n",
        "    if index == pos:\n",
        "      text = text + \" \" + word\n",
        "      print(text)\n"
      ],
      "metadata": {
        "colab": {
          "base_uri": "https://localhost:8080/"
        },
        "id": "_NaceRqchilF",
        "outputId": "13de6a90-7aad-48e0-fd0d-e6b4d029e7a5"
      },
      "execution_count": 80,
      "outputs": [
        {
          "output_type": "stream",
          "name": "stdout",
          "text": [
            "1/1 [==============================] - 0s 20ms/step\n",
            "tanvir ko bhi\n",
            "1/1 [==============================] - 0s 22ms/step\n",
            "tanvir ko bhi utha\n",
            "1/1 [==============================] - 0s 19ms/step\n",
            "tanvir ko bhi utha lenge\n",
            "1/1 [==============================] - 0s 21ms/step\n",
            "tanvir ko bhi utha lenge ab\n",
            "1/1 [==============================] - 0s 19ms/step\n",
            "tanvir ko bhi utha lenge ab ab\n"
          ]
        }
      ]
    }
  ]
}